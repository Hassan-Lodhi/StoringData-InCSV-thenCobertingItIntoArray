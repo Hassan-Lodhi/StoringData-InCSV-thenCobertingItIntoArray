{
 "cells": [
  {
   "cell_type": "code",
   "execution_count": 15,
   "id": "91653f09",
   "metadata": {},
   "outputs": [],
   "source": [
    "import keras\n",
    "import pandas as pd\n",
    "import tensorflow.keras as keras"
   ]
  },
  {
   "cell_type": "code",
   "execution_count": 18,
   "id": "617911c0",
   "metadata": {},
   "outputs": [],
   "source": [
    "dataset = keras.datasets.mnist.load_data()"
   ]
  },
  {
   "cell_type": "code",
   "execution_count": 19,
   "id": "f8fd6310",
   "metadata": {},
   "outputs": [],
   "source": [
    "train_df = pd.DataFrame(list(zip(dataset[0][0], dataset[0][1])), columns =['image', 'label'])"
   ]
  },
  {
   "cell_type": "code",
   "execution_count": 20,
   "id": "fb544823",
   "metadata": {},
   "outputs": [],
   "source": [
    "test_df = pd.DataFrame(list(zip(dataset[0][0], dataset[0][1])), columns =['image', 'label'])"
   ]
  },
  {
   "cell_type": "code",
   "execution_count": 21,
   "id": "3f2f0266",
   "metadata": {},
   "outputs": [],
   "source": [
    "train_df.to_csv('train_df.csv',index=False)\n"
   ]
  },
  {
   "cell_type": "code",
   "execution_count": 23,
   "id": "daeb509c",
   "metadata": {},
   "outputs": [],
   "source": [
    "test_df.to_csv('test_df.csv',index=False)"
   ]
  },
  {
   "cell_type": "code",
   "execution_count": 26,
   "id": "efe9e0d4",
   "metadata": {},
   "outputs": [],
   "source": [
    "train_df_numpy = pd.read_csv('train_df.csv')"
   ]
  },
  {
   "cell_type": "code",
   "execution_count": 27,
   "id": "3ec4e9e9",
   "metadata": {},
   "outputs": [],
   "source": [
    "test_df_numpy = pd.read_csv('test_df.csv')\n"
   ]
  },
  {
   "cell_type": "code",
   "execution_count": 28,
   "id": "df40416f",
   "metadata": {},
   "outputs": [],
   "source": [
    "#Now convertting data into arrays\n",
    "train_image_numpy = train_df_numpy['image'].to_numpy()"
   ]
  },
  {
   "cell_type": "code",
   "execution_count": 29,
   "id": "56dcb2be",
   "metadata": {},
   "outputs": [],
   "source": [
    "train_label_numpy = train_df_numpy['label'].to_numpy()\n"
   ]
  },
  {
   "cell_type": "code",
   "execution_count": 30,
   "id": "876847c2",
   "metadata": {},
   "outputs": [],
   "source": [
    "test_image_numpy = test_df_numpy['image'].to_numpy()\n",
    "test_label_numpy = test_df_numpy['label'].to_numpy()"
   ]
  },
  {
   "cell_type": "code",
   "execution_count": 31,
   "id": "ff6cc0bc",
   "metadata": {},
   "outputs": [
    {
     "name": "stdout",
     "output_type": "stream",
     "text": [
      "(<class 'numpy.ndarray'>, <class 'numpy.ndarray'>) (<class 'numpy.ndarray'>, <class 'numpy.ndarray'>)\n"
     ]
    }
   ],
   "source": [
    "print((type(train_image_numpy),type(train_label_numpy)),(type(test_image_numpy),type(test_label_numpy)))"
   ]
  },
  {
   "cell_type": "code",
   "execution_count": null,
   "id": "a25207a9",
   "metadata": {},
   "outputs": [],
   "source": []
  }
 ],
 "metadata": {
  "kernelspec": {
   "display_name": "Python 3 (ipykernel)",
   "language": "python",
   "name": "python3"
  },
  "language_info": {
   "codemirror_mode": {
    "name": "ipython",
    "version": 3
   },
   "file_extension": ".py",
   "mimetype": "text/x-python",
   "name": "python",
   "nbconvert_exporter": "python",
   "pygments_lexer": "ipython3",
   "version": "3.9.16"
  }
 },
 "nbformat": 4,
 "nbformat_minor": 5
}
